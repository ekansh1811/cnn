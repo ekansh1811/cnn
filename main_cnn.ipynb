{
  "nbformat": 4,
  "nbformat_minor": 0,
  "metadata": {
    "colab": {
      "provenance": [],
      "authorship_tag": "ABX9TyNmYyYEspVORzFQ7DUC9tUX",
      "include_colab_link": true
    },
    "kernelspec": {
      "name": "python3",
      "display_name": "Python 3"
    },
    "language_info": {
      "name": "python"
    },
    "accelerator": "GPU",
    "gpuClass": "standard"
  },
  "cells": [
    {
      "cell_type": "markdown",
      "metadata": {
        "id": "view-in-github",
        "colab_type": "text"
      },
      "source": [
        "<a href=\"https://colab.research.google.com/github/ekansh1811/cnn/blob/main/main_cnn.ipynb\" target=\"_parent\"><img src=\"https://colab.research.google.com/assets/colab-badge.svg\" alt=\"Open In Colab\"/></a>"
      ]
    },
    {
      "cell_type": "code",
      "execution_count": 1,
      "metadata": {
        "id": "C9uq3PszbAGE"
      },
      "outputs": [],
      "source": [
        "import torch\n",
        "import torch.nn as nn\n",
        "import torchvision\n",
        "from torch.utils.data import DataLoader\n",
        "from torchvision import datasets\n",
        "import torchvision.transforms as transforms\n",
        "import matplotlib.pyplot as plt"
      ]
    },
    {
      "cell_type": "code",
      "source": [
        "batch_size = 256\n",
        "num_classes = 10\n",
        "learning_rate = 0.01\n",
        "num_epochs = 20"
      ],
      "metadata": {
        "id": "6kpJUfulcNE7"
      },
      "execution_count": 2,
      "outputs": []
    },
    {
      "cell_type": "code",
      "source": [
        "device = torch.device('cuda' if torch.cuda.is_available() else 'cpu')"
      ],
      "metadata": {
        "id": "T_njFWamdBTq"
      },
      "execution_count": 3,
      "outputs": []
    },
    {
      "cell_type": "code",
      "source": [
        "all_transform = transforms.Compose([transforms.Resize((32,32)),\n",
        "                                    transforms.ToTensor(),\n",
        "                                    transforms.Normalize(mean=[0.4914,0.4822,0.4465],\n",
        "                                                         std=[0.2023,0.1994,0.2010])\n",
        "                                    ])"
      ],
      "metadata": {
        "id": "W3s8zOxKdgYR"
      },
      "execution_count": 4,
      "outputs": []
    },
    {
      "cell_type": "code",
      "source": [
        "train_dataset = datasets.CIFAR10(root='./data',\n",
        "                                 train = True,\n",
        "                                 transform = all_transform,\n",
        "                                 download = True)\n",
        "\n",
        "test_dataset = datasets.CIFAR10(root = './data',\n",
        "                                train = False,\n",
        "                                transform = all_transform,\n",
        "                                download = True)"
      ],
      "metadata": {
        "colab": {
          "base_uri": "https://localhost:8080/"
        },
        "id": "ttQ4tNygfzTK",
        "outputId": "38f08be9-9238-4980-a951-40a1cf6bb85e"
      },
      "execution_count": 5,
      "outputs": [
        {
          "output_type": "stream",
          "name": "stdout",
          "text": [
            "Downloading https://www.cs.toronto.edu/~kriz/cifar-10-python.tar.gz to ./data/cifar-10-python.tar.gz\n"
          ]
        },
        {
          "output_type": "stream",
          "name": "stderr",
          "text": [
            "100%|██████████| 170498071/170498071 [00:05<00:00, 32001326.25it/s]\n"
          ]
        },
        {
          "output_type": "stream",
          "name": "stdout",
          "text": [
            "Extracting ./data/cifar-10-python.tar.gz to ./data\n",
            "Files already downloaded and verified\n"
          ]
        }
      ]
    },
    {
      "cell_type": "code",
      "source": [
        "train_loader = DataLoader(dataset = train_dataset,\n",
        "                          batch_size = batch_size,\n",
        "                          shuffle = True)\n",
        "\n",
        "test_loader = DataLoader(dataset = test_dataset,\n",
        "                         batch_size = batch_size,\n",
        "                         shuffle = True)"
      ],
      "metadata": {
        "id": "dReOThqJhN_m"
      },
      "execution_count": 6,
      "outputs": []
    },
    {
      "cell_type": "code",
      "source": [
        "class ConvNeuralNet(nn.Module):\n",
        "  def __init__(self, num_classes):\n",
        "    super(ConvNeuralNet, self).__init__()\n",
        "    self.conv_l1 = nn.Conv2d(in_channels=3, out_channels=32, kernel_size=3)\n",
        "    self.conv_l2 = nn.Conv2d(in_channels=32, out_channels=32, kernel_size=3)\n",
        "    self.max_pool1 = nn.MaxPool2d(kernel_size=2,stride=2)\n",
        "\n",
        "    self.conv_l3 = nn.Conv2d(in_channels=32, out_channels=64, kernel_size=3)\n",
        "    self.conv_l4 = nn.Conv2d(in_channels=64, out_channels=64, kernel_size=3)\n",
        "    self.max_pool2 = nn.MaxPool2d(kernel_size=2, stride=2)\n",
        "    self.fc1 = nn.Linear(1600,128)\n",
        "    self.relu1 = nn.ReLU()\n",
        "    self.fc2 = nn.Linear(128,num_classes)\n",
        "\n",
        "  def forward(self, x):\n",
        "    out = self.conv_l1(x)\n",
        "    out = self.conv_l2(out)\n",
        "    out = self.max_pool1(out)\n",
        "\n",
        "    out = self.conv_l3(out)\n",
        "    out = self.conv_l4(out)\n",
        "    out = self.max_pool2(out)\n",
        "\n",
        "    out = out.reshape(out.size(0), -1)\n",
        "\n",
        "    out = self.fc1(out)\n",
        "    out = self.relu1(out)\n",
        "    out = self.fc2(out)\n",
        "    return out"
      ],
      "metadata": {
        "id": "V9wcWbDMiiIe"
      },
      "execution_count": 7,
      "outputs": []
    },
    {
      "cell_type": "code",
      "source": [
        "model = ConvNeuralNet(num_classes).to(device)\n",
        "criterion = nn.CrossEntropyLoss()\n",
        "optimizer = torch.optim.SGD(model.parameters(), lr = learning_rate, weight_decay = 0.005, momentum = 0.9)\n",
        "total_step = len(train_loader)"
      ],
      "metadata": {
        "id": "qoR6L3BjmyYr"
      },
      "execution_count": 8,
      "outputs": []
    },
    {
      "cell_type": "code",
      "source": [
        "acc=[0,0]\n",
        "k = 0\n",
        "j = 0\n",
        "while True:\n",
        "  for i, (images, labels) in enumerate(train_loader):\n",
        "    images = images.to(device)\n",
        "    labels = labels.to(device)\n",
        "\n",
        "    outputs = model(images)\n",
        "    loss = criterion(outputs,labels)\n",
        "\n",
        "    optimizer.zero_grad()\n",
        "    loss.backward()\n",
        "    optimizer.step()\n",
        "    if i/195==1:\n",
        "      j+=1\n",
        "      with torch.no_grad():\n",
        "        correct = 0\n",
        "        samples = 0\n",
        "        for images, labels in test_loader:\n",
        "          images = images.to(device)\n",
        "          labels = labels.to(device)\n",
        "          outputs = model(images)\n",
        "          _,predicted = torch.max(outputs.data,1)\n",
        "          samples+=labels.size(0)\n",
        "          correct+= (predicted == labels).sum().item()\n",
        "      print('Epoch [{}], loss:{:.4f}'.format(j,loss.item()))\n",
        "      print('accuracy = ',100*(correct/samples))\n",
        "      print('\\n\\n')\n",
        "      accuracy = correct/samples\n",
        "      acc+=[accuracy]\n",
        "      if acc[len(acc)-1]<acc[len(acc)-2] and acc[len(acc)-2]<acc[len(acc)-3]:\n",
        "        k+=1\n",
        "        break\n",
        "  if k==1:\n",
        "    break\n",
        "\n",
        "plt.plot(acc[2:])\n"
      ],
      "metadata": {
        "id": "HywW8CONng0k",
        "colab": {
          "base_uri": "https://localhost:8080/",
          "height": 1000
        },
        "outputId": "8e1a12c3-a5f1-4989-c4a6-ea0a8eaf84e0"
      },
      "execution_count": 9,
      "outputs": [
        {
          "output_type": "stream",
          "name": "stdout",
          "text": [
            "Epoch [1], loss:1.5025\n",
            "accuracy =  44.800000000000004\n",
            "\n",
            "\n",
            "\n",
            "Epoch [2], loss:1.1683\n",
            "accuracy =  54.84\n",
            "\n",
            "\n",
            "\n",
            "Epoch [3], loss:1.0980\n",
            "accuracy =  59.21999999999999\n",
            "\n",
            "\n",
            "\n",
            "Epoch [4], loss:0.8016\n",
            "accuracy =  62.71\n",
            "\n",
            "\n",
            "\n",
            "Epoch [5], loss:0.8844\n",
            "accuracy =  64.85\n",
            "\n",
            "\n",
            "\n",
            "Epoch [6], loss:1.0710\n",
            "accuracy =  66.66\n",
            "\n",
            "\n",
            "\n",
            "Epoch [7], loss:0.6654\n",
            "accuracy =  67.75\n",
            "\n",
            "\n",
            "\n",
            "Epoch [8], loss:0.8467\n",
            "accuracy =  68.84\n",
            "\n",
            "\n",
            "\n",
            "Epoch [9], loss:0.7029\n",
            "accuracy =  69.42\n",
            "\n",
            "\n",
            "\n",
            "Epoch [10], loss:1.0025\n",
            "accuracy =  69.5\n",
            "\n",
            "\n",
            "\n",
            "Epoch [11], loss:0.5716\n",
            "accuracy =  69.82000000000001\n",
            "\n",
            "\n",
            "\n",
            "Epoch [12], loss:0.7662\n",
            "accuracy =  70.37\n",
            "\n",
            "\n",
            "\n",
            "Epoch [13], loss:0.6498\n",
            "accuracy =  70.62\n",
            "\n",
            "\n",
            "\n",
            "Epoch [14], loss:0.6862\n",
            "accuracy =  70.38\n",
            "\n",
            "\n",
            "\n",
            "Epoch [15], loss:0.4261\n",
            "accuracy =  69.71000000000001\n",
            "\n",
            "\n",
            "\n"
          ]
        },
        {
          "output_type": "execute_result",
          "data": {
            "text/plain": [
              "[<matplotlib.lines.Line2D at 0x7fcd00ca1610>]"
            ]
          },
          "metadata": {},
          "execution_count": 9
        },
        {
          "output_type": "display_data",
          "data": {
            "text/plain": [
              "<Figure size 640x480 with 1 Axes>"
            ],
            "image/png": "[encoded data removed]"
          },
          "metadata": {}
        }
      ]
    },
    {
      "cell_type": "code",
      "source": [
        "with torch.no_grad():\n",
        "  correct = 0\n",
        "  samples = 0\n",
        "  for images, labels in test_loader:\n",
        "    images = images.to(device)\n",
        "    labels = labels.to(device)\n",
        "    outputs = model(images)\n",
        "    _,predicted = torch.max(outputs.data,1)\n",
        "    samples+=labels.size(0)\n",
        "    correct+= (predicted == labels).sum().item()\n",
        "print('accuracy = ',100*(correct/samples))"
      ],
      "metadata": {
        "colab": {
          "base_uri": "https://localhost:8080/"
        },
        "id": "Rc4KB5EAHdcU",
        "outputId": "ec26254a-74a4-4554-8e82-a66dd538d6b7"
      },
      "execution_count": 11,
      "outputs": [
        {
          "output_type": "stream",
          "name": "stdout",
          "text": [
            "accuracy =  69.71000000000001\n"
          ]
        }
      ]
    }
  ]
}