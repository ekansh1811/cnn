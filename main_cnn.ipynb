{
  "nbformat": 4,
  "nbformat_minor": 0,
  "metadata": {
    "colab": {
      "provenance": [],
      "authorship_tag": "ABX9TyOIbTN78QRH0oVtLzVl0oh7"
    },
    "kernelspec": {
      "name": "python3",
      "display_name": "Python 3"
    },
    "language_info": {
      "name": "python"
    },
    "accelerator": "GPU",
    "gpuClass": "standard"
  },
  "cells": [
    {
      "cell_type": "code",
      "execution_count": 14,
      "metadata": {
        "id": "C9uq3PszbAGE"
      },
      "outputs": [],
      "source": [
        "import torch\n",
        "import torch.nn as nn\n",
        "import torchvision\n",
        "from torch.utils.data import DataLoader\n",
        "from torchvision import datasets\n",
        "import torchvision.transforms as transforms\n",
        "import matplotlib.pyplot as plt"
      ]
    },
    {
      "cell_type": "code",
      "source": [
        "batch_size = 64\n",
        "num_classes = 10\n",
        "learning_rate = 0.01\n",
        "num_epochs = 20"
      ],
      "metadata": {
        "id": "6kpJUfulcNE7"
      },
      "execution_count": 3,
      "outputs": []
    },
    {
      "cell_type": "code",
      "source": [
        "device = torch.device('cuda' if torch.cuda.is_available() else 'cpu')"
      ],
      "metadata": {
        "id": "T_njFWamdBTq"
      },
      "execution_count": 4,
      "outputs": []
    },
    {
      "cell_type": "code",
      "source": [
        "all_transform = transforms.Compose([transforms.Resize((32,32)),\n",
        "                                    transforms.ToTensor(),\n",
        "                                    transforms.Normalize(mean=[0.4914,0.4822,0.4465],\n",
        "                                                         std=[0.2023,0.1994,0.2010])\n",
        "                                    ])"
      ],
      "metadata": {
        "id": "W3s8zOxKdgYR"
      },
      "execution_count": 6,
      "outputs": []
    },
    {
      "cell_type": "code",
      "source": [
        "train_dataset = datasets.CIFAR10(root='./data',\n",
        "                                 train = True,\n",
        "                                 transform = all_transform,\n",
        "                                 download = True)\n",
        "\n",
        "test_dataset = datasets.CIFAR10(root = './data',\n",
        "                                train = False,\n",
        "                                transform = all_transform,\n",
        "                                download = True)"
      ],
      "metadata": {
        "colab": {
          "base_uri": "https://localhost:8080/"
        },
        "id": "ttQ4tNygfzTK",
        "outputId": "9fe37971-149b-4263-c5de-e1b5f93e3187"
      },
      "execution_count": 9,
      "outputs": [
        {
          "output_type": "stream",
          "name": "stdout",
          "text": [
            "Files already downloaded and verified\n",
            "Files already downloaded and verified\n"
          ]
        }
      ]
    },
    {
      "cell_type": "code",
      "source": [
        "train_loader = DataLoader(dataset = train_dataset,\n",
        "                          batch_size = batch_size,\n",
        "                          shuffle = True)\n",
        "\n",
        "test_loader = DataLoader(dataset = test_dataset,\n",
        "                         batch_size = batch_size,\n",
        "                         shuffle = True)"
      ],
      "metadata": {
        "id": "dReOThqJhN_m"
      },
      "execution_count": 16,
      "outputs": []
    },
    {
      "cell_type": "code",
      "source": [
        "class ConvNeuralNet(nn.Module):\n",
        "  def __init__(self, num_classes):\n",
        "    super(ConvNeuralNet, self).__init__()\n",
        "    self.conv_l1 = nn.Conv2d(in_channels=3, out_channels=32, kernel_size=3)\n",
        "    self.conv_l2 = nn.Conv2d(in_channels=32, out_channels=32, kernel_size=3)\n",
        "    self.max_pool1 = nn.MaxPool2d(kernel_size=2,stride=2)\n",
        "\n",
        "    self.conv_l3 = nn.Conv2d(in_channels=32, out_channels=64, kernel_size=3)\n",
        "    self.conv_l4 = nn.Conv2d(in_channels=64, out_channels=64, kernel_size=3)\n",
        "    self.max_pool2 = nn.MaxPool2d(kernel_size=2, stride=2)\n",
        "    self.fc1 = nn.Linear(1600,128)\n",
        "    self.relu1 = nn.ReLU()\n",
        "    self.fc2 = nn.Linear(128,num_classes)\n",
        "\n",
        "  def forward(self, x):\n",
        "    out = self.conv_l1(x)\n",
        "    out = self.conv_l2(out)\n",
        "    out = self.max_pool1(out)\n",
        "\n",
        "    out = self.conv_l3(out)\n",
        "    out = self.conv_l4(out)\n",
        "    out = self.max_pool2(out)\n",
        "\n",
        "    out = out.reshape(out.size(0), -1)\n",
        "\n",
        "    out = self.fc1(out)\n",
        "    out = self.relu1(out)\n",
        "    out = self.fc2(out)\n",
        "    return out"
      ],
      "metadata": {
        "id": "V9wcWbDMiiIe"
      },
      "execution_count": 18,
      "outputs": []
    },
    {
      "cell_type": "code",
      "source": [
        "model = ConvNeuralNet(num_classes)\n",
        "criterion = nn.CrossEntropyLoss()\n",
        "optimizer = torch.optim.SGD(model.parameters(), lr = learning_rate, weight_decay = 0.005, momentum = 0.9)\n",
        "total_step = len(train_loader)"
      ],
      "metadata": {
        "id": "qoR6L3BjmyYr"
      },
      "execution_count": 19,
      "outputs": []
    },
    {
      "cell_type": "code",
      "source": [],
      "metadata": {
        "id": "HywW8CONng0k"
      },
      "execution_count": null,
      "outputs": []
    }
  ]
}